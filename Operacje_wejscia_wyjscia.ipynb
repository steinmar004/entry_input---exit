{
 "cells": [
  {
   "cell_type": "code",
   "execution_count": 9,
   "metadata": {},
   "outputs": [
    {
     "name": "stdout",
     "output_type": "stream",
     "text": [
      "Jestem programem, który oblicza pole prostokąta.\n",
      "Dla a= 4.5 i b= 5.4:\n",
      "Pole prostokąta wynosi: 24.3.\n",
      "\n",
      "24.3\n",
      "Press any key to continue..:D\n"
     ]
    }
   ],
   "source": [
    "'''\n",
    "Napisz program, który oblicza pole prostokąta. Wartość boków a i b są typu float i należy je wprowadzić z klawiatury.\n",
    " Wynik działania programu należy wyprowadzić na ekran komputera.'''         # inne/ używane:\n",
    "                                                                            #int (całkowite .0)\n",
    "\n",
    "print(\"Jestem programem, który oblicza pole prostokąta.\")\n",
    "a = float(input(\"Proszę o wprowadzenie wartości a: \"))\n",
    "b = float(input(\"Proszę o wprowadzenie wartości b: \"))\n",
    "pole_prostokata = a * b\n",
    "print(f\"Dla a= {a} i b= {b}:\")\n",
    "print(f\"Pole prostokąta wynosi: {pole_prostokata}.\")\n",
    "print()\n",
    "print(pole_prostokata)\n",
    "print(\"Press any key to continue..:D\")\n",
    "# do potęgi 1/2\n",
    "# np pole kwadratu, bok a**2\n",
    "# * np bok kwadratu; pierwiastek kwadratowy: funkcja sqrt (zewnetrzna, import.math) lub ** 1/2 "
   ]
  },
  {
   "cell_type": "code",
   "execution_count": 10,
   "metadata": {},
   "outputs": [
    {
     "name": "stdout",
     "output_type": "stream",
     "text": [
      "Jestem programem, który wypisze Ci wartość stałej Pi.\n",
      "3.142\n"
     ]
    }
   ],
   "source": [
    "'''\n",
    "Napisz program, który wyświetla na ekranie komputera wartość predefiniowanej \n",
    "stałej  \"Pi\"=3.14... Należy przyjąć format wyświetlania tej stałej z dokładnością do trzech\n",
    "miejsc po przecinku'''                                                     # pi jest ściągana z zewnątrz przez import.math\n",
    "                                                        \n",
    "import math\n",
    "print(\"Jestem programem, który wypisze Ci wartość stałej Pi.\")\n",
    "print(f\"{math.pi:.3f}\")"
   ]
  },
  {
   "cell_type": "code",
   "execution_count": 22,
   "metadata": {},
   "outputs": [
    {
     "name": "stdout",
     "output_type": "stream",
     "text": [
      "Jestem programem, który obliczy pierwiastek kwadratowy liczby Pi, z dokładnością do czterch miejsc po przecinku.\n",
      "1.7725\n"
     ]
    }
   ],
   "source": [
    "'''1_3\n",
    "Napisz porgram, który wyświetla na ekranie komputera pierwiastek kwadratowy z wartości predefiniowanej stałej\n",
    "π = 3.14... z dokładnosciądo czterech miejsc po przecinku'''\n",
    "                                                            # pi jest ściągana z zewnątrz przez import.math\n",
    "\n",
    "import math\n",
    "print(\"Jestem programem, który obliczy pierwiastek kwadratowy liczby Pi z dokładnością do czterch miejsc po przecinku.\")\n",
    "pierwiastek_pi = math.pi ** 0.5\n",
    "print(f\"{pierwiastek_pi:.4f}\")\n"
   ]
  },
  {
   "cell_type": "code",
   "execution_count": 25,
   "metadata": {},
   "outputs": [
    {
     "name": "stdout",
     "output_type": "stream",
     "text": [
      "wykonuję działanie 37 / 11. Wynik podaję z dokładnością do liczby całkowitej.\n",
      "Oto ono: dla liczb : a= 37 i b= 11\n",
      "37 / 11 =  3\n"
     ]
    }
   ],
   "source": [
    "'''1_4                                         # bez reszty, czyli //\n",
    "Napisz program, który oblicza wynik dzielenia całkowitego bez reszty dla dwóch liczb całkowitych a = 37 i b = 11. '''\n",
    "a = 37\n",
    "b = 11\n",
    "print(\"Wykonuję działanie 37 / 11. Wynik podaję z dokładnością do liczby całkowitej.\")\n",
    "print(f\"Oto ono; dla liczb : a= {a} i b= {b}\")\n",
    "print(f\"{a} / {b} = \", end= ' ')\n",
    "print(a // b)"
   ]
  },
  {
   "cell_type": "code",
   "execution_count": 27,
   "metadata": {},
   "outputs": [
    {
     "name": "stdout",
     "output_type": "stream",
     "text": [
      "Wykonuję działanie 37 / 11. Zwracam resztę z tego dzielenia.\n",
      "Oto ono; dla liczb : a= 37 i b= 11\n",
      "37 % 11 =  4\n"
     ]
    }
   ],
   "source": [
    "'''1_5                        # to operacja modulo takową zwróci\n",
    "Napisz program, który oblicza resztę z dzielenia całkowitego dwóch liczb całkowitych a = 37 i b = 11.\n",
    "'''\n",
    "a = 37\n",
    "b = 11\n",
    "print(\"Wykonuję działanie 37 / 11. Zwracam resztę z tego dzielenia.\")\n",
    "print(f\"Oto ono; dla liczb : a= {a} i b= {b}\")\n",
    "print(f\"{a} % {b} = \", end= ' ')\n",
    "print(a % b)"
   ]
  },
  {
   "cell_type": "code",
   "execution_count": 40,
   "metadata": {},
   "outputs": [
    {
     "name": "stdout",
     "output_type": "stream",
     "text": [
      "Witaj Drogi użytkowniku. A więc: \n",
      "Nazwywasz się m s.\n",
      "Masz 7 lat.\n",
      "Ostatnio zapłaciłeś za bochenek chleba 6.7 PLN.\n"
     ]
    }
   ],
   "source": [
    "'''1_6                      # teksty/string     #l.całk     # l. zm/przec    \n",
    "Napisz program, który wczytuje imię, nazwisko, wiek oraz cenę chleba a następnie te cztery zmienne drukuje\n",
    " na ekranie komputera.'''                                   \n",
    "\n",
    "imie = input(\"Jak masz na imię?\")\n",
    "nazwisko = input(\"Jak masz na nazwisko?\")\n",
    "wiek = int(input(\"Ile masz lat?\"))\n",
    "cena = float(input(\"Ile zapłaciłeś w sklepie za bochenek chleba?\"))\n",
    "\n",
    "print(\"Witaj Drogi użytkowniku. A więc: \")\n",
    "print(f\"Nazwywasz się {imie} {nazwisko}.\", sep=\"\")\n",
    "print(f\"Masz {wiek} lat.\")\n",
    "print(f\"Ostatnio zapłaciłeś za bochenek chleba {cena} PLN.\")\n"
   ]
  },
  {
   "cell_type": "code",
   "execution_count": 4,
   "metadata": {},
   "outputs": [
    {
     "name": "stdout",
     "output_type": "stream",
     "text": [
      "Wygeneruję teraz 5 losowych numerów.\n",
      "Oto one:\n",
      "37\n",
      "95\n",
      "33\n",
      "91\n",
      "92\n"
     ]
    }
   ],
   "source": [
    "'''Napisz program, który generuje 5 liczb losowych z przedziału od 1 do 100.\n",
    "'''                                                             # losowanie jest importowne z zewnątrz jako moduł\n",
    "import random                                                   # wiemy ile ich jest, przyda się pętla for, 5-elementowa, \n",
    "print(\"Wygeneruję teraz 5 losowych numerów.\\nOto one:\")         # tj. ma zmienne numery z przedziąłu od 1 do 101(101 odcięte)\n",
    "for r in range(5):\n",
    "    numery = random.randint(1,101)\n",
    "    print(numery) "
   ]
  }
 ],
 "metadata": {
  "kernelspec": {
   "display_name": "Python 3",
   "language": "python",
   "name": "python3"
  },
  "language_info": {
   "codemirror_mode": {
    "name": "ipython",
    "version": 3
   },
   "file_extension": ".py",
   "mimetype": "text/x-python",
   "name": "python",
   "nbconvert_exporter": "python",
   "pygments_lexer": "ipython3",
   "version": "3.11.0 (main, Oct 24 2022, 18:26:48) [MSC v.1933 64 bit (AMD64)]"
  },
  "orig_nbformat": 4,
  "vscode": {
   "interpreter": {
    "hash": "4d305d8e74976d6f8032662dc6dd70f367e051d51b86f1f8658b6f60c16d4b3f"
   }
  }
 },
 "nbformat": 4,
 "nbformat_minor": 2
}
